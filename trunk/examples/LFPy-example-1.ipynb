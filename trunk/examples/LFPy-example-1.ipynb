{
 "metadata": {
  "name": "LFPy-example-1"
 }, 
 "nbformat": 2, 
 "worksheets": [
  {
   "cells": [
    {
     "cell_type": "markdown", 
     "source": [
      "", 
      "", 
      "# Example 1: Post-synaptic response of a single synapse #", 
      "First step is to **import LFPy** and other packages:"
     ]
    }, 
    {
     "cell_type": "code", 
     "collapsed": true, 
     "input": [
      "import LFPy", 
      "from pylab import *"
     ], 
     "language": "python", 
     "outputs": [], 
     "prompt_number": 15
    }, 
    {
     "cell_type": "markdown", 
     "source": [
      "Then, create the cell object using the **LFPy.Cell**", 
      "-class, specifying the morphology file.", 
      "The passive mechanisms", 
      "are switched on by default."
     ]
    }, 
    {
     "cell_type": "code", 
     "collapsed": true, 
     "input": [
      "cell = LFPy.Cell(morphology = 'morphologies/L5_Mainen96_wAxon_LFPy.hoc')"
     ], 
     "language": "python", 
     "outputs": [], 
     "prompt_number": 16
    }, 
    {
     "cell_type": "markdown", 
     "source": [
      "One can now use **LFPy.Synapse**-class to insert a single ", 
      "synapse onto the soma compartment, and set the spike time(s) using **LFPy.Synapse.set_spike_times()**:"
     ]
    }, 
    {
     "cell_type": "code", 
     "collapsed": true, 
     "input": [
      "synapse = LFPy.Synapse(cell, ", 
      "                       idx = cell.get_idx_section(\"soma[0]\"),", 
      "                       syntype = 'Exp2Syn', ", 
      "                       weight = 0.005, ", 
      "                       e = 0, ", 
      "                       tau1 = 0.5,", 
      "                       tau2 = 2,", 
      "                       record_current = True)", 
      "synapse.set_spike_times(array([20., 40]))"
     ], 
     "language": "python", 
     "outputs": [], 
     "prompt_number": 17
    }, 
    {
     "cell_type": "markdown", 
     "source": [
      "", 
      "We now have what we need to calculate the postsynaptic response, without calculating LFPs,", 
      "using a built in method **LFPy.Cell.simulate()** method to run the simulation."
     ]
    }, 
    {
     "cell_type": "code", 
     "collapsed": false, 
     "input": [
      "cell.simulate(rec_isyn=True)"
     ], 
     "language": "python", 
     "outputs": [
      {
       "output_type": "stream", 
       "stream": "stdout", 
       "text": [
        "rec_imem = False, membrane currents will not be recorded!", 
        "t = 10, realtime factor: 0.058"
       ]
      }, 
      {
       "output_type": "stream", 
       "stream": "stdout", 
       "text": [
        "", 
        "t = 20, realtime factor: 0.109"
       ]
      }, 
      {
       "output_type": "stream", 
       "stream": "stdout", 
       "text": [
        "", 
        "t = 30, realtime factor: 0.087"
       ]
      }, 
      {
       "output_type": "stream", 
       "stream": "stdout", 
       "text": [
        "", 
        "t = 40, realtime factor: 0.087"
       ]
      }, 
      {
       "output_type": "stream", 
       "stream": "stdout", 
       "text": [
        "", 
        "t = 50, realtime factor: 0.085"
       ]
      }, 
      {
       "output_type": "stream", 
       "stream": "stdout", 
       "text": [
        "", 
        "t = 60, realtime factor: 0.121"
       ]
      }, 
      {
       "output_type": "stream", 
       "stream": "stdout", 
       "text": [
        "", 
        "t = 70, realtime factor: 0.087"
       ]
      }, 
      {
       "output_type": "stream", 
       "stream": "stdout", 
       "text": [
        "", 
        "t = 80, realtime factor: 0.081"
       ]
      }, 
      {
       "output_type": "stream", 
       "stream": "stdout", 
       "text": [
        "", 
        "t = 90, realtime factor: 0.122"
       ]
      }, 
      {
       "output_type": "stream", 
       "stream": "stdout", 
       "text": [
        "", 
        "t = 100, realtime factor: 0.087"
       ]
      }, 
      {
       "output_type": "stream", 
       "stream": "stdout", 
       "text": [
        ""
       ]
      }
     ], 
     "prompt_number": 18
    }, 
    {
     "cell_type": "markdown", 
     "source": [
      "Then ", 
      "plot the synaptic current and somatic potential:"
     ]
    }, 
    {
     "cell_type": "code", 
     "collapsed": false, 
     "input": [
      "figure(figsize=(12, 6))", 
      "subplot(121)", 
      "plot(cell.tvec, synapse.i), title('synaptic current (pA)')", 
      "subplot(122)", 
      "plot(cell.tvec, cell.somav), title('somatic voltage (mV)')", 
      "show()"
     ], 
     "language": "python", 
     "outputs": [
      {
       "output_type": "display_data", 
       "png": "[encoded data removed]"
      }
     ], 
     "prompt_number": 19
    }, 
    {
     "cell_type": "code", 
     "collapsed": true, 
     "input": [], 
     "language": "python", 
     "outputs": [], 
     "prompt_number": 14
    }
   ]
  }
 ]
}