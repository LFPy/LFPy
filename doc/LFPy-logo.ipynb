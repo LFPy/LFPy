{
 "cells": [
  {
   "cell_type": "code",
   "execution_count": null,
   "metadata": {},
   "outputs": [],
   "source": [
    "%matplotlib inline"
   ]
  },
  {
   "cell_type": "markdown",
   "metadata": {},
   "source": [
    "# Example plot for LFPy: Single-synapse contribution to the LFP\n",
    "\n",
    "Copyright (C) 2017 Computational Neuroscience Group, NMBU.\n",
    "\n",
    "This program is free software: you can redistribute it and/or modify\n",
    "it under the terms of the GNU General Public License as published by\n",
    "the Free Software Foundation, either version 3 of the License, or\n",
    "(at your option) any later version.\n",
    "\n",
    "This program is distributed in the hope that it will be useful,\n",
    "but WITHOUT ANY WARRANTY; without even the implied warranty of\n",
    "MERCHANTABILITY or FITNESS FOR A PARTICULAR PURPOSE.  See the\n",
    "GNU General Public License for more details."
   ]
  },
  {
   "cell_type": "code",
   "execution_count": null,
   "metadata": {},
   "outputs": [],
   "source": [
    "import LFPy\n",
    "import numpy as np\n",
    "import os\n",
    "import sys\n",
    "from urllib.request import urlopen\n",
    "import ssl\n",
    "import zipfile\n",
    "import matplotlib.pyplot as plt\n",
    "from matplotlib.collections import PolyCollection\n",
    "from os.path import join"
   ]
  },
  {
   "cell_type": "markdown",
   "metadata": {},
   "source": [
    "## Fetch Mainen&Sejnowski 1996 model files:"
   ]
  },
  {
   "cell_type": "code",
   "execution_count": null,
   "metadata": {},
   "outputs": [],
   "source": [
    "if not os.path.isfile(join('cells', 'cells', 'j4a.hoc')):\n",
    "    #get the model files:\n",
    "    u = urlopen('http://senselab.med.yale.edu/ModelDB/eavBinDown.asp?o=2488&a=23&mime=application/zip',\n",
    "                context=ssl._create_unverified_context())\n",
    "    localFile = open('patdemo.zip', 'wb')\n",
    "    localFile.write(u.read())\n",
    "    localFile.close()\n",
    "    #unzip:\n",
    "    myzip = zipfile.ZipFile('patdemo.zip', 'r')\n",
    "    myzip.extractall('.')\n",
    "    myzip.close()"
   ]
  },
  {
   "cell_type": "markdown",
   "metadata": {},
   "source": [
    "## Main script, set parameters and create cell, synapse and electrode objects:"
   ]
  },
  {
   "cell_type": "code",
   "execution_count": null,
   "metadata": {},
   "outputs": [],
   "source": [
    "# Define cell parameters\n",
    "cell_parameters = {\n",
    "    'morphology' : join('cells', 'cells', 'j4a.hoc'), # from Mainen & Sejnowski, J Comput Neurosci, 1996\n",
    "    'cm' : 1.0,         # membrane capacitance\n",
    "    'Ra' : 150.,        # axial resistance\n",
    "    'v_init' : -65.,    # initial crossmembrane potential\n",
    "    'passive' : True,   # turn on NEURONs passive mechanism for all sections\n",
    "    'passive_parameters' : {'g_pas' : 1./30000, 'e_pas' : -65},\n",
    "    'nsegs_method' : 'lambda_f', # spatial discretization method\n",
    "    'lambda_f' : 100.,           # frequency where length constants are computed\n",
    "    'dt' : 2.**-3,      # simulation time step size\n",
    "    'tstart' : 0.,      # start time of simulation, recorders start at t=0\n",
    "    'tstop' : 100.,     # stop simulation at 100 ms.\n",
    "}\n",
    "\n",
    "# Create cell\n",
    "cell = LFPy.Cell(**cell_parameters)\n",
    "# Align cell\n",
    "cell.set_rotation(x=4.98919, y=-4.33261, z=0.)"
   ]
  },
  {
   "cell_type": "code",
   "execution_count": null,
   "metadata": {},
   "outputs": [],
   "source": [
    "# Define synapse parameters\n",
    "synapse_parameters = {\n",
    "    'idx' : cell.get_closest_idx(x=0., y=0., z=900.),\n",
    "    'e' : 0.,                   # reversal potential\n",
    "    'syntype' : 'ExpSyn',       # synapse type\n",
    "    'tau' : 10.,                # syn. time constant\n",
    "    'weight' : .001,            # syn. weight\n",
    "    'record_current' : True,\n",
    "}\n",
    "\n",
    "# Create synapse and set time of synaptic input\n",
    "synapse = LFPy.Synapse(cell, **synapse_parameters)\n",
    "synapse.set_spike_times(np.array([20.]))"
   ]
  },
  {
   "cell_type": "code",
   "execution_count": null,
   "metadata": {},
   "outputs": [],
   "source": [
    "# Run simulation, record transmembrane currents\n",
    "cell.simulate(rec_imem=True)"
   ]
  },
  {
   "cell_type": "code",
   "execution_count": null,
   "metadata": {},
   "outputs": [],
   "source": [
    "# Create a grid of measurement locations, in (mum)\n",
    "X, Z = np.mgrid[-500:501:50, -400:1201:50]\n",
    "Y = np.zeros(X.shape)\n",
    "\n",
    "# Define electrode parameters\n",
    "grid_electrode_parameters = {\n",
    "    'sigma' : 0.3,      # extracellular conductivity\n",
    "    'x' : X.flatten(),  # electrode requires 1d vector of positions\n",
    "    'y' : Y.flatten(),\n",
    "    'z' : Z.flatten()\n",
    "}\n",
    "\n",
    "# Create electrode objects\n",
    "grid_electrode = LFPy.RecExtElectrode(cell, **grid_electrode_parameters)\n",
    "\n",
    "# Calculate LFPs as product between linear transform and currents. \n",
    "# Create reference to data on class object\n",
    "grid_electrode.LFP = grid_electrode.get_transformation_matrix() @ cell.imem"
   ]
  },
  {
   "cell_type": "markdown",
   "metadata": {},
   "source": [
    "## Plot simulation output:"
   ]
  },
  {
   "cell_type": "code",
   "execution_count": null,
   "metadata": {},
   "outputs": [],
   "source": [
    "fig = plt.figure(dpi=160, figsize=(12, 6))\n",
    "\n",
    "ax = fig.add_axes([.1,.1,.25,.8], frameon=False)\n",
    "ax.axis('off')\n",
    "ax1 = fig.add_axes([.35,.1,.6,.8], aspect='auto', frameon=False)\n",
    "ax1.axis('off')\n",
    "\n",
    "from matplotlib.textpath import TextPath\n",
    "from matplotlib.font_manager import FontProperties\n",
    "from matplotlib.patches import PathPatch\n",
    "\n",
    "fp = FontProperties(family=\"Courier New\", weight='roman')\n",
    "path = TextPath((0, 0), 'LFPy', prop=fp, size=50, )\n",
    "\n",
    "ax1.add_patch(PathPatch(path, facecolor='C1', clip_on=False, linewidth=3))\n",
    "ax1.axis([0, 120, -15, 35])\n",
    "\n",
    "LFP = grid_electrode.LFP[:, cell.tvec==30].reshape(X.shape)\n",
    "linthresh = 1E-5\n",
    "vmax = 2E-4\n",
    "\n",
    "C0 = plt.cm.colors.hex2color('k')\n",
    "C1 = plt.cm.colors.hex2color('C4')\n",
    "C2 = plt.cm.colors.hex2color('C1')\n",
    "C3 = plt.cm.colors.hex2color('C3')\n",
    "C4 = plt.cm.colors.hex2color('k')\n",
    "cmap = plt.cm.colors.LinearSegmentedColormap.from_list('C0C1C2', colors=[C0, C1, C2, C3, C4], N=256, gamma=1)\n",
    "\n",
    "im = ax.contourf(X, Z, LFP,\n",
    "                 norm=plt.cm.colors.SymLogNorm(linthresh=linthresh, linscale=1,\n",
    "                                               vmin=-vmax, vmax=vmax),\n",
    "                 levels=101,\n",
    "                 cmap=cmap,\n",
    "                 zorder=-2)\n",
    "\n",
    "#plot morphology\n",
    "zips = []\n",
    "for x, z in cell.get_idx_polygons():\n",
    "    zips.append(list(zip(x, z)))\n",
    "polycol = PolyCollection(zips,\n",
    "                         edgecolors='k',\n",
    "                         facecolors='k',\n",
    "                         lw=0.2)\n",
    "ax.add_collection(polycol)\n",
    "\n",
    "ax.plot(synapse.x, synapse.z, 'o', ms=10,\n",
    "        markeredgecolor='k',\n",
    "        markerfacecolor='C1')\n",
    "\n",
    "fig.savefig('LFPy-logo.png', bbox_inches='tight')\n",
    "fig.savefig('LFPy-logo.svg', bbox_inches='tight')"
   ]
  },
  {
   "cell_type": "code",
   "execution_count": null,
   "metadata": {},
   "outputs": [],
   "source": []
  }
 ],
 "metadata": {
  "kernelspec": {
   "display_name": "Python 3 (ipykernel)",
   "language": "python",
   "name": "python3"
  },
  "language_info": {
   "codemirror_mode": {
    "name": "ipython",
    "version": 3
   },
   "file_extension": ".py",
   "mimetype": "text/x-python",
   "name": "python",
   "nbconvert_exporter": "python",
   "pygments_lexer": "ipython3",
   "version": "3.10.2"
  }
 },
 "nbformat": 4,
 "nbformat_minor": 4
}
