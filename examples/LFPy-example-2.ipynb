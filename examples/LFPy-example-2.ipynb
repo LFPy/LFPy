{
 "cells": [
  {
   "cell_type": "code",
   "execution_count": null,
   "metadata": {
    "collapsed": false
   },
   "outputs": [],
   "source": [
    "%pylab inline"
   ]
  },
  {
   "cell_type": "markdown",
   "metadata": {},
   "source": [
    "\n",
    "\n",
    "\n",
    "# Example 2: Extracellular response of synaptic input\n",
    "This is an example of **``LFPy``** running in an **``IPython notebook``**. To run through this example code and produce output, press **``<shift-Enter>``** in each code block below.\n",
    "\n",
    "First step is to **import ``LFPy``** and other packages for analysis and plotting:"
   ]
  },
  {
   "cell_type": "code",
   "execution_count": null,
   "metadata": {
    "collapsed": true
   },
   "outputs": [],
   "source": [
    "import LFPy"
   ]
  },
  {
   "cell_type": "markdown",
   "metadata": {},
   "source": [
    "Create some dictionarys with parameters for cell, synapse and extracellular electrode:"
   ]
  },
  {
   "cell_type": "code",
   "execution_count": null,
   "metadata": {
    "collapsed": true
   },
   "outputs": [],
   "source": [
    "cellParameters = {\n",
    "    'morphology' : 'morphologies/L5_Mainen96_LFPy.hoc',\n",
    "    'tstartms' : -50,\n",
    "    'tstopms' : 100,\n",
    "}\n",
    "\n",
    "synapseParameters = {\n",
    "    'syntype' : 'Exp2Syn',\n",
    "    'e' : 0.,\n",
    "    'tau1' : 0.5,\n",
    "    'tau2' : 2.0,\n",
    "    'weight' : 0.005,\n",
    "    'record_current' : True,\n",
    "}\n",
    "\n",
    "z = mgrid[-400:1201:100]\n",
    "electrodeParameters = {\n",
    "    'x' : zeros(z.size),\n",
    "    'y' : zeros(z.size),\n",
    "    'z' : z,\n",
    "    'sigma' : 0.3,\n",
    "}"
   ]
  },
  {
   "cell_type": "markdown",
   "metadata": {},
   "source": [
    "Then, create the **cell**, **synapse** and **electrode** objects using \n",
    "**LFPy.Cell**, **LFPy.Synapse**, **LFPy.RecExtElectrode**."
   ]
  },
  {
   "cell_type": "code",
   "execution_count": null,
   "metadata": {
    "collapsed": true
   },
   "outputs": [],
   "source": [
    "cell = LFPy.Cell(**cellParameters)\n",
    "cell.set_pos(xpos=-10, ypos=0, zpos=0)\n",
    "cell.set_rotation(z=np.pi)\n",
    "\n",
    "synapse = LFPy.Synapse(cell,\n",
    "                       idx = cell.get_closest_idx(z=800),\n",
    "                       **synapseParameters)\n",
    "synapse.set_spike_times(array([10, 30, 50]))\n",
    "                        \n",
    "electrode = LFPy.RecExtElectrode(**electrodeParameters)"
   ]
  },
  {
   "cell_type": "markdown",
   "metadata": {},
   "source": [
    "Run the simulation with **electrode** as input to **cell.simulate()**"
   ]
  },
  {
   "cell_type": "code",
   "execution_count": null,
   "metadata": {
    "collapsed": false
   },
   "outputs": [],
   "source": [
    "cell.simulate(electrode = electrode, rec_isyn=True)"
   ]
  },
  {
   "cell_type": "markdown",
   "metadata": {},
   "source": [
    "Then plot the **somatic potential** and the **LFP**\n",
    "from electrode object:"
   ]
  },
  {
   "cell_type": "code",
   "execution_count": null,
   "metadata": {
    "collapsed": false
   },
   "outputs": [],
   "source": [
    "figure(figsize=(12, 6))\n",
    "subplot(133)\n",
    "pcolormesh(cell.tvec, electrode.z, electrode.LFP,\n",
    "           vmin=-abs(electrode.LFP).max(), vmax=abs(electrode.LFP).max(),\n",
    "           cmap='spectral_r'), colorbar(), title('LFP (mV)')\n",
    "subplot(232)\n",
    "plot(cell.tvec, synapse.i), title('synaptic current (pA)')\n",
    "subplot(235)\n",
    "plot(cell.tvec, cell.somav), title('somatic voltage (mV)')\n",
    "subplot(131)\n",
    "for sec in LFPy.cell.neuron.h.allsec():\n",
    "    idx = cell.get_idx(sec.name())\n",
    "    plot(np.r_[cell.xstart[idx], cell.xend[idx][-1]],\n",
    "            np.r_[cell.zstart[idx], cell.zend[idx][-1]],\n",
    "            color='k')\n",
    "plot([cell.synapses[0].x], [cell.synapses[0].z], \\\n",
    "     color=cell.synapses[0].color, marker=cell.synapses[0].marker, markersize=10)\n",
    "plot(electrode.x, electrode.z, '.', marker='o', color='g')\n",
    "axis([-500, 500, -400, 1200])\n",
    "\n",
    "#savefig('LFPy-example-2.pdf', dpi=300)"
   ]
  },
  {
   "cell_type": "code",
   "execution_count": null,
   "metadata": {
    "collapsed": true
   },
   "outputs": [],
   "source": []
  }
 ],
 "metadata": {
  "kernelspec": {
   "display_name": "Python 2",
   "language": "python",
   "name": "python2"
  },
  "language_info": {
   "codemirror_mode": {
    "name": "ipython",
    "version": 2
   },
   "file_extension": ".py",
   "mimetype": "text/x-python",
   "name": "python",
   "nbconvert_exporter": "python",
   "pygments_lexer": "ipython2",
   "version": "2.7.12"
  }
 },
 "nbformat": 4,
 "nbformat_minor": 0
}
