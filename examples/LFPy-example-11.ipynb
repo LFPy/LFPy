{
 "cells": [
  {
   "cell_type": "markdown",
   "metadata": {},
   "source": [
    "# Example 11: Variable timestep method\n",
    "This is an example of **``LFPy``** running in an **``IPython notebook``**. To run through this example code and produce output, press **``<shift-Enter>``** in each code block below.\n",
    "\n",
    "First step is to **import ``LFPy``** and other packages for analysis and plotting:"
   ]
  },
  {
   "cell_type": "code",
   "execution_count": null,
   "metadata": {},
   "outputs": [],
   "source": [
    "%matplotlib inline"
   ]
  },
  {
   "cell_type": "code",
   "execution_count": null,
   "metadata": {},
   "outputs": [],
   "source": [
    "import LFPy\n",
    "import numpy as np\n",
    "import matplotlib.pyplot as plt\n",
    "from time import time"
   ]
  },
  {
   "cell_type": "code",
   "execution_count": null,
   "metadata": {},
   "outputs": [],
   "source": [
    "# fix seed\n",
    "np.random.seed(1234)"
   ]
  },
  {
   "cell_type": "code",
   "execution_count": null,
   "metadata": {},
   "outputs": [],
   "source": [
    "# Cell parameters\n",
    "cell_params = dict(\n",
    "    morphology='morphologies/L5_Mainen96_LFPy.hoc',\n",
    "    dt=0.05, # simulation time resolution, will be ignored for variable_dt methods (ms)\n",
    "    tstop=1000, # simulation time (ms)\n",
    "    passive=True, # use passive mechanism\n",
    ")\n",
    "# Synapse parameters\n",
    "syn_params = dict(\n",
    "    idx=0, # compartment index\n",
    "    syntype='ExpSyn', # exponential conductance synapse type\n",
    "    record_current=True, # record synaptic current\n",
    "    e=0, # reversal potential (mV)\n",
    "    tau=5, # synaptic time constant (ms)\n",
    "    weight=0.01 # synaptic max conductance (uS)\n",
    ")"
   ]
  },
  {
   "cell_type": "code",
   "execution_count": null,
   "metadata": {},
   "outputs": [],
   "source": [
    "# synapse activation times (ms)\n",
    "sptimes = np.random.rand(100)*1000\n",
    "sptimes = np.sort(sptimes)"
   ]
  },
  {
   "cell_type": "code",
   "execution_count": null,
   "metadata": {},
   "outputs": [],
   "source": [
    "def simulation(variable_dt=False):\n",
    "    '''\n",
    "    Parameters\n",
    "    ----------\n",
    "    variable_dt: bool\n",
    "        whether or not variable timestep method is used\n",
    "    \n",
    "    Returns\n",
    "    -------\n",
    "    tvec: ndarray\n",
    "        simulation time vector (ms)\n",
    "    somav: ndarray\n",
    "        cell somatic voltage (mV)\n",
    "    syni: ndarray\n",
    "        synaptic current (nA)\n",
    "    tictoc: float\n",
    "        simulation time (s)\n",
    "    '''\n",
    "    cell = LFPy.Cell(**cell_params)\n",
    "    syn = LFPy.Synapse(cell, **syn_params)\n",
    "    syn.set_spike_times(sptimes=sptimes)\n",
    "    toc = time()\n",
    "    cell.simulate(variable_dt=variable_dt)\n",
    "    tic = time()\n",
    "    return cell.tvec, cell.somav, syn.i, tic-toc "
   ]
  },
  {
   "cell_type": "code",
   "execution_count": null,
   "metadata": {},
   "outputs": [],
   "source": [
    "# run simulation, plot comparison of output\n",
    "fig, axes = plt.subplots(3, 1, sharex=True, figsize=(12, 8))\n",
    "for variable_dt in [True, False]:\n",
    "    tvec, somav, syni, tictoc = simulation(variable_dt)\n",
    "    print('sim time variable_dt={}: {} (ms)'.format(variable_dt, tictoc*1000))\n",
    "    axes[0].plot(tvec, syni)\n",
    "    axes[0].set_ylabel(r'$I_\\mathrm{syn}$ (nA)')\n",
    "    axes[1].plot(tvec, somav)\n",
    "    axes[1].set_ylabel(r'$V_\\mathrm{soma}$ (mV)')\n",
    "    axes[2].step(tvec[:-1], np.diff(tvec), where='pre')\n",
    "    axes[2].set_ylabel('$\\Delta t$ (ms)')\n",
    "    axes[2].set_xlabel(r'$t$ (ms)')"
   ]
  },
  {
   "cell_type": "code",
   "execution_count": null,
   "metadata": {},
   "outputs": [],
   "source": []
  }
 ],
 "metadata": {
  "kernelspec": {
   "display_name": "Python 3",
   "language": "python",
   "name": "python3"
  },
  "language_info": {
   "codemirror_mode": {
    "name": "ipython",
    "version": 3
   },
   "file_extension": ".py",
   "mimetype": "text/x-python",
   "name": "python",
   "nbconvert_exporter": "python",
   "pygments_lexer": "ipython3",
   "version": "3.8.2"
  }
 },
 "nbformat": 4,
 "nbformat_minor": 4
}
