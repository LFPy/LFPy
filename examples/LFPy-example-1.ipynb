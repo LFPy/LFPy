{
 "cells": [
  {
   "cell_type": "code",
   "execution_count": null,
   "metadata": {
    "collapsed": false,
    "deletable": true,
    "editable": true
   },
   "outputs": [],
   "source": [
    "%pylab inline"
   ]
  },
  {
   "cell_type": "markdown",
   "metadata": {
    "deletable": true,
    "editable": true
   },
   "source": [
    "\n",
    "\n",
    "# Example 1: Post-synaptic response of a single synapse #\n",
    "This is an example of **``LFPy``** running in an **``IPython notebook``**. To run through this example code and produce output, press **``<shift-Enter>``** in each code block below.\n",
    "\n",
    "First step is to **import ``LFPy``** and other packages for analysis and plotting:"
   ]
  },
  {
   "cell_type": "code",
   "execution_count": null,
   "metadata": {
    "collapsed": false,
    "deletable": true,
    "editable": true
   },
   "outputs": [],
   "source": [
    "import LFPy"
   ]
  },
  {
   "cell_type": "markdown",
   "metadata": {
    "deletable": true,
    "editable": true
   },
   "source": [
    "Then, create the cell object using the **LFPy.Cell**\n",
    "-class, specifying the morphology file.\n",
    "The passive mechanisms\n",
    "are not switched on by default."
   ]
  },
  {
   "cell_type": "code",
   "execution_count": null,
   "metadata": {
    "collapsed": true,
    "deletable": true,
    "editable": true
   },
   "outputs": [],
   "source": [
    "cell = LFPy.Cell(morphology = 'morphologies/L5_Mainen96_LFPy.hoc', passive=True)"
   ]
  },
  {
   "cell_type": "markdown",
   "metadata": {
    "deletable": true,
    "editable": true
   },
   "source": [
    "One can now use **LFPy.Synapse**-class to insert a single \n",
    "synapse onto the soma compartment, and set the spike time(s) using **LFPy.Synapse.set_spike_times()**:"
   ]
  },
  {
   "cell_type": "code",
   "execution_count": null,
   "metadata": {
    "collapsed": true,
    "deletable": true,
    "editable": true
   },
   "outputs": [],
   "source": [
    "synapse = LFPy.Synapse(cell, \n",
    "                       idx = cell.get_idx(\"soma[0]\"),\n",
    "                       syntype = 'Exp2Syn', \n",
    "                       weight = 0.005, \n",
    "                       e = 0, \n",
    "                       tau1 = 0.5,\n",
    "                       tau2 = 2,\n",
    "                       record_current = True)\n",
    "synapse.set_spike_times(array([20., 40]))"
   ]
  },
  {
   "cell_type": "markdown",
   "metadata": {
    "deletable": true,
    "editable": true
   },
   "source": [
    "\n",
    "We now have what we need to calculate the postsynaptic response, without calculating LFPs,\n",
    "using a built in method **LFPy.Cell.simulate()** method to run the simulation."
   ]
  },
  {
   "cell_type": "code",
   "execution_count": null,
   "metadata": {
    "collapsed": false,
    "deletable": true,
    "editable": true
   },
   "outputs": [],
   "source": [
    "cell.simulate()"
   ]
  },
  {
   "cell_type": "markdown",
   "metadata": {
    "deletable": true,
    "editable": true
   },
   "source": [
    "Then \n",
    "plot the model geometry, synaptic current and somatic potential:"
   ]
  },
  {
   "cell_type": "code",
   "execution_count": null,
   "metadata": {
    "collapsed": false,
    "deletable": true,
    "editable": true
   },
   "outputs": [],
   "source": [
    "figure(figsize=(12, 9))\n",
    "subplot(222)\n",
    "plot(cell.tvec, synapse.i, 'r'), title('synaptic current (pA)')\n",
    "subplot(224)\n",
    "plot(cell.tvec, cell.somav, 'k'), title('somatic voltage (mV)')\n",
    "subplot(121)\n",
    "for sec in LFPy.cell.neuron.h.allsec():\n",
    "    idx = cell.get_idx(sec.name())\n",
    "    plot(np.r_[cell.xstart[idx], cell.xend[idx][-1]],\n",
    "            np.r_[cell.zstart[idx], cell.zend[idx][-1]],\n",
    "            color='k')\n",
    "plot([cell.synapses[0].x], [cell.synapses[0].z], \\\n",
    "     color='r', marker='o', markersize=10)\n",
    "axis([-500, 500, -400, 1200])\n",
    "\n",
    "#savefig('LFPy-example-1.pdf', dpi=200)"
   ]
  },
  {
   "cell_type": "code",
   "execution_count": null,
   "metadata": {
    "collapsed": true,
    "deletable": true,
    "editable": true
   },
   "outputs": [],
   "source": []
  }
 ],
 "metadata": {
  "kernelspec": {
   "display_name": "Python 2",
   "language": "python",
   "name": "python2"
  },
  "language_info": {
   "codemirror_mode": {
    "name": "ipython",
    "version": 2
   },
   "file_extension": ".py",
   "mimetype": "text/x-python",
   "name": "python",
   "nbconvert_exporter": "python",
   "pygments_lexer": "ipython2",
   "version": "2.7.13"
  }
 },
 "nbformat": 4,
 "nbformat_minor": 0
}
